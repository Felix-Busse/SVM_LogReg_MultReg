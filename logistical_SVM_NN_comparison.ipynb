{
 "cells": [
  {
   "cell_type": "markdown",
   "id": "8b9880db",
   "metadata": {},
   "source": [
    "# Classification of IRIS-data with support vector machines (SVP) and logistic regression"
   ]
  },
  {
   "cell_type": "code",
   "execution_count": 1,
   "id": "58c06a34",
   "metadata": {},
   "outputs": [
    {
     "name": "stderr",
     "output_type": "stream",
     "text": [
      "2024-05-27 13:22:37.482705: I tensorflow/tsl/cuda/cudart_stub.cc:28] Could not find cuda drivers on your machine, GPU will not be used.\n",
      "2024-05-27 13:22:37.953576: I tensorflow/tsl/cuda/cudart_stub.cc:28] Could not find cuda drivers on your machine, GPU will not be used.\n",
      "2024-05-27 13:22:37.957291: I tensorflow/core/platform/cpu_feature_guard.cc:182] This TensorFlow binary is optimized to use available CPU instructions in performance-critical operations.\n",
      "To enable the following instructions: AVX2 FMA, in other operations, rebuild TensorFlow with the appropriate compiler flags.\n",
      "2024-05-27 13:22:39.594610: W tensorflow/compiler/tf2tensorrt/utils/py_utils.cc:38] TF-TRT Warning: Could not find TensorRT\n"
     ]
    }
   ],
   "source": [
    "import matplotlib.pyplot as plt\n",
    "import numpy as np\n",
    "import pandas as pd\n",
    "import tensorflow.keras as ks\n",
    "from sklearn.datasets import load_iris\n",
    "from sklearn.svm import LinearSVC\n",
    "from sklearn.svm import SVC\n",
    "from sklearn.linear_model import LogisticRegression\n",
    "from sklearn.model_selection import cross_validate\n",
    "from sklearn.model_selection import StratifiedKFold\n",
    "from sklearn.model_selection import train_test_split\n",
    "from sklearn.preprocessing import StandardScaler"
   ]
  },
  {
   "cell_type": "markdown",
   "id": "edabf373",
   "metadata": {},
   "source": [
    "## Load and preprocess data"
   ]
  },
  {
   "cell_type": "code",
   "execution_count": 2,
   "id": "bc063df6",
   "metadata": {},
   "outputs": [
    {
     "name": "stdout",
     "output_type": "stream",
     "text": [
      "Any missing data in features data? Answer: False\n",
      "Any missing data in target data? Answer: False\n"
     ]
    }
   ],
   "source": [
    "# Load features and targets\n",
    "iris_features = load_iris(as_frame=True)['data']\n",
    "iris_target = pd.DataFrame(load_iris(as_frame=True)['target'])\n",
    "# Check for missing data\n",
    "print(f'Any missing data in features data? Answer: {iris_features.isna().any().any()}')\n",
    "print(f'Any missing data in target data? Answer: {iris_target.isna().any().any()}')\n",
    "# Unless scaling is not necessary for logistic regression, it may for LASSO or RIDGE\n",
    "# Normalizing features (all features are interval variables)\n",
    "scaler = StandardScaler()\n",
    "iris_features_scaled = pd.DataFrame(scaler.fit_transform(iris_features), columns=iris_features.columns)\n",
    "# No normalization is applied to target, as this column is nominal"
   ]
  },
  {
   "cell_type": "markdown",
   "id": "3883b125",
   "metadata": {},
   "source": [
    "## Logistical regression to classify Iris data"
   ]
  },
  {
   "cell_type": "code",
   "execution_count": 3,
   "id": "92b6a4a0",
   "metadata": {},
   "outputs": [
    {
     "data": {
      "text/plain": [
       "0.9736842105263158"
      ]
     },
     "execution_count": 3,
     "metadata": {},
     "output_type": "execute_result"
    }
   ],
   "source": [
    "# Split data in training and test data set\n",
    "X_train, X_test, y_train, y_test = train_test_split(iris_features_scaled, iris_target)\n",
    "# Create instance of logistic regression\n",
    "log_regress = LogisticRegression(multi_class='multinomial')\n",
    "# Calculate regression on training data set\n",
    "log_regress.fit(X_train, y_train.to_numpy().ravel())\n",
    "# Make predictions on test data set\n",
    "log_regress.score(X_test, y_test)"
   ]
  },
  {
   "cell_type": "code",
   "execution_count": 4,
   "id": "406a3501",
   "metadata": {},
   "outputs": [
    {
     "name": "stdout",
     "output_type": "stream",
     "text": [
      "The logistic regression scores an accuracy of 95% +/- 8% on test data set\n"
     ]
    }
   ],
   "source": [
    "# Estimate performance of logistic regression for various train/test-splits via cross-validation\n",
    "cross_result = cross_validate(log_regress, X=iris_features_scaled, y=iris_target.to_numpy().ravel(), \n",
    "               scoring='accuracy', cv=20)\n",
    "# Calculate mean and standard-deviation of score on test-data\n",
    "cross_test_mean = cross_result['test_score'].mean()\n",
    "cross_test_std = cross_result['test_score'].std()\n",
    "# Print these results\n",
    "print(f'The logistic regression scores an accuracy of {cross_test_mean:.0%} +/- {cross_test_std:.0%}\\\n",
    " on test data set') "
   ]
  },
  {
   "cell_type": "markdown",
   "id": "35623e8c",
   "metadata": {},
   "source": [
    "## Support vector machine (SVM)"
   ]
  },
  {
   "cell_type": "markdown",
   "id": "2918f8e1",
   "metadata": {},
   "source": [
    "### 1. Linear SVM "
   ]
  },
  {
   "cell_type": "code",
   "execution_count": 5,
   "id": "211e7a22",
   "metadata": {},
   "outputs": [
    {
     "data": {
      "text/plain": [
       "0.9473684210526315"
      ]
     },
     "execution_count": 5,
     "metadata": {},
     "output_type": "execute_result"
    }
   ],
   "source": [
    "# Data is already scaled (important as metrics are calculated)\n",
    "svm_linear = LinearSVC(dual=False, C=3)\n",
    "# Fit Data to train data set\n",
    "svm_linear.fit(X_train, y_train.to_numpy().ravel())\n",
    "# receive score on test data set\n",
    "svm_linear.score(X_test, y_test)"
   ]
  },
  {
   "cell_type": "code",
   "execution_count": 6,
   "id": "28b3b169",
   "metadata": {},
   "outputs": [
    {
     "name": "stdout",
     "output_type": "stream",
     "text": [
      "The linear SVM scores an accuracy of 95% +/- 8% on test data set.\n",
      "More generatlization (smaller \"C\" in LinearSVC) leads to worse results, when C<0.5. Less generalization improves from accuracy .94 to .95 accuracy, when C>=3 (default is 1.0).\n",
      "Consequently C=3.0 was chosen.\n"
     ]
    }
   ],
   "source": [
    "# Estimate performance of Linear SVM via cross-validation\n",
    "cross_result_linear_svm = cross_validate(svm_linear, X=iris_features_scaled, \n",
    "                                         y=iris_target.to_numpy().ravel(), \n",
    "                                         scoring='accuracy', cv=20)\n",
    "# Calculate mean and standard-deviation of score on test-data\n",
    "cross_test_mean_linear_svm = cross_result_linear_svm['test_score'].mean()\n",
    "cross_test_std_linear_svm = cross_result_linear_svm['test_score'].std()\n",
    "# Print the results\n",
    "print(f'The linear SVM scores an accuracy of {cross_test_mean_linear_svm:.0%} +/- \\\n",
    "{cross_test_std_linear_svm:.0%} on test data set.\\nMore generatlization (smaller \"C\" in LinearSVC) \\\n",
    "leads to worse results, when C<0.5. Less generalization improves from accuracy .94 to .95 accuracy, \\\n",
    "when C>=3 (default is 1.0).\\nConsequently C=3.0 was chosen.') "
   ]
  },
  {
   "cell_type": "markdown",
   "id": "560a5dbb",
   "metadata": {},
   "source": [
    "## 2. non-linear SVM"
   ]
  },
  {
   "cell_type": "code",
   "execution_count": 7,
   "id": "93ea575a",
   "metadata": {},
   "outputs": [
    {
     "data": {
      "text/plain": [
       "0.9736842105263158"
      ]
     },
     "execution_count": 7,
     "metadata": {},
     "output_type": "execute_result"
    }
   ],
   "source": [
    "# Create instance of support vector classifier\n",
    "svm = SVC(C=1.0, kernel='rbf', gamma=0.1)\n",
    "# Examples of training and scoring on test-data set\n",
    "svm.fit(X_train, y_train.to_numpy().ravel())\n",
    "svm.score(X_test, y_test.to_numpy().ravel())"
   ]
  },
  {
   "cell_type": "code",
   "execution_count": 8,
   "id": "cc49b9bf",
   "metadata": {},
   "outputs": [
    {
     "name": "stdout",
     "output_type": "stream",
     "text": [
      "The SVC with \"rbf\"-kernel scores an accuracy of 97% +/- 6% on test data set.\n",
      "Modifying regularization worsens the result, as varying \"C\" to lower or bigger values of default=1worsense the result. Thus C=1.0 was chosen.\n",
      "Parameter \"gamma=0.1\" reproduced the performance of the choice \"gamme=\"scale\" and no other gamme could be found to perform better.\n"
     ]
    }
   ],
   "source": [
    "# Estimate performance of SVM with kernel \"radial basis function\" via cross-validation\n",
    "cross_result_svm = cross_validate(svm, X=iris_features_scaled, y=iris_target.to_numpy().ravel(), \n",
    "                                  scoring='accuracy', cv=20)\n",
    "# Calculate mean and standard-deviation of score on test-data\n",
    "cross_test_mean_svm = cross_result_svm['test_score'].mean()\n",
    "cross_test_std_svm = cross_result_svm['test_score'].std()\n",
    "# Print the results\n",
    "print(f'The SVC with \"rbf\"-kernel scores an accuracy \\\n",
    "of {cross_test_mean_svm:.0%} +/- {cross_test_std_svm:.0%} on test data set.\\n\\\n",
    "Modifying regularization worsens the result, as varying \"C\" to lower or bigger values of default=1\\\n",
    "worsense the result. Thus C=1.0 was chosen.\\nParameter \"gamma=0.1\" reproduced the performance of the \\\n",
    "choice \"gamme=\"scale\" and no other gamme could be found to perform better.')"
   ]
  },
  {
   "cell_type": "code",
   "execution_count": 9,
   "id": "cedb151c",
   "metadata": {},
   "outputs": [
    {
     "data": {
      "text/plain": [
       "1.0"
      ]
     },
     "execution_count": 9,
     "metadata": {},
     "output_type": "execute_result"
    }
   ],
   "source": [
    "# Create instance of support vector classifier\n",
    "svm_poly = SVC(C=1, kernel='poly', degree=3, coef0=0.8)\n",
    "# Examples of training and scoring on test-data set\n",
    "svm_poly.fit(X_train, y_train.to_numpy().ravel())\n",
    "svm_poly.score(X_test, y_test.to_numpy().ravel())"
   ]
  },
  {
   "cell_type": "code",
   "execution_count": 10,
   "id": "500b822c",
   "metadata": {},
   "outputs": [
    {
     "name": "stdout",
     "output_type": "stream",
     "text": [
      "The SVC with \"poly, degree=3\"-kernel scores an accuracy of 97% +/- 6% on test data set.\n",
      "Again default regularization couldn't be improved by modifying \"C\". Offset parameter \"coef0\" showed big influence and was optimized for greatest accuracy on test data set during cross-validation.\n",
      "After this \"degree\" was of weak influx and remaind on default (degree=3).\n",
      "After this optimization polynominal kernel shows same performance as \"rbf\"-kernel.\n"
     ]
    }
   ],
   "source": [
    "# Estimate performance of SVM with kernel \"poly, degree=3\" via cross-validation\n",
    "cross_result_svm_poly = cross_validate(svm_poly, X=iris_features_scaled, y=iris_target.to_numpy().ravel(), \n",
    "                                  scoring='accuracy', cv=20)\n",
    "# Calculate mean and standard-deviation of score on test-data\n",
    "cross_test_mean_svm_poly = cross_result_svm_poly['test_score'].mean()\n",
    "cross_test_std_svm_poly = cross_result_svm_poly['test_score'].std()\n",
    "# Print the results\n",
    "print(f'The SVC with \"poly, degree=3\"-kernel scores an accuracy \\\n",
    "of {cross_test_mean_svm_poly:.0%} +/- {cross_test_std_svm_poly:.0%} on test data set.\\n\\\n",
    "Again default regularization couldn\\'t be improved by modifying \"C\". Offset parameter \"coef0\" \\\n",
    "showed big influence and was optimized for greatest accuracy on test data set during cross-validation.\\n\\\n",
    "After this \"degree\" was of weak influx and remaind on default (degree=3).\\n\\\n",
    "After this optimization polynominal kernel shows same performance as \"rbf\"-kernel.')"
   ]
  },
  {
   "cell_type": "markdown",
   "id": "6c68ef92",
   "metadata": {},
   "source": [
    "# kNN-classifier"
   ]
  },
  {
   "cell_type": "markdown",
   "id": "8740b052",
   "metadata": {},
   "source": [
    "In a previous examination of iris-data set a kNN-classifier was optimized.\n",
    "It achieved about 96 % accuracy."
   ]
  },
  {
   "cell_type": "markdown",
   "id": "8d2afb03",
   "metadata": {},
   "source": [
    "# Neuronal net"
   ]
  },
  {
   "cell_type": "markdown",
   "id": "49eeae5c",
   "metadata": {},
   "source": [
    "For comparison, a neuronal net is trained and evaluated."
   ]
  },
  {
   "cell_type": "code",
   "execution_count": 11,
   "id": "e5305f70",
   "metadata": {},
   "outputs": [],
   "source": [
    "# Neuronal net will have one hot encoding output. Dummy-columns needed for targets\n",
    "iris_target_dummies = pd.get_dummies(iris_target, prefix='cat', columns=['target'])\n",
    "# Create train/test-split\n",
    "X_train_nn, X_test_nn, y_train_nn, y_test_nn = train_test_split(iris_features_scaled, iris_target_dummies)"
   ]
  },
  {
   "cell_type": "code",
   "execution_count": 12,
   "id": "4beb2adf",
   "metadata": {},
   "outputs": [],
   "source": [
    "# Define net as Sequential and layers as follows\n",
    "net = ks.Sequential()\n",
    "net.add(ks.layers.Dense(7, activation='tanh', input_shape=(4, ))) # First hidden layer\n",
    "net.add(ks.layers.Dense(7, activation='tanh')) # second hidden layer\n",
    "net.add(ks.layers.Dense(3, activation='softmax'))# Output layer\n",
    "net.compile(optimizer='adam', loss='categorical_crossentropy', metrics='accuracy')\n",
    "\n",
    "# List to store loss of every epoch on traning data in\n",
    "history_list = []\n",
    "# List to store accuracy on test data in\n",
    "accuracy_list = []"
   ]
  },
  {
   "cell_type": "code",
   "execution_count": 130,
   "id": "7840894e",
   "metadata": {},
   "outputs": [],
   "source": [
    "# Loop over training data - one epoch per loop, evaluate with test data each loop\n",
    "for i in range(300):\n",
    "    history = net.fit(X_train_nn, y_train_nn, epochs=1, verbose=0) # Training on training data\n",
    "    history_list += history.history['loss'] # store information about loss on training data\n",
    "    [_, accuracy] = net.evaluate(X_test_nn, y_test_nn, verbose=0) # evaluate on test data and store accuracy information\n",
    "    accuracy_list.append(accuracy) "
   ]
  },
  {
   "cell_type": "code",
   "execution_count": 144,
   "id": "d92e3f8a",
   "metadata": {},
   "outputs": [
    {
     "data": {
      "text/plain": [
       "Text(0.5, 1.0, 'NN performance')"
      ]
     },
     "execution_count": 144,
     "metadata": {},
     "output_type": "execute_result"
    },
    {
     "data": {
      "image/png": "[encoded data removed]",
      "text/plain": [
       "<Figure size 640x480 with 2 Axes>"
      ]
     },
     "metadata": {},
     "output_type": "display_data"
    }
   ],
   "source": [
    "# Plot loss during training, and accuracy on test batch after each epoch\n",
    "\n",
    "# Define fontdictionaries\n",
    "font_blue = {'family': 'sans-serif',\n",
    "        'color':  'blue',\n",
    "        'weight': 'bold',\n",
    "        'size': 16,\n",
    "        }\n",
    "font_red = {'family': 'sans-serif',\n",
    "        'color':  'red',\n",
    "        'weight': 'bold',\n",
    "        'size': 16,\n",
    "        }\n",
    "font_black = {'family': 'sans-serif',\n",
    "        'color':  'black',\n",
    "        'weight': 'bold',\n",
    "        'size': 16,\n",
    "        }\n",
    "\n",
    "fig, ax = plt.subplots()\n",
    "# plot loss function, note no. of epoch needs to begin with 1\n",
    "ax.plot([i for i in range(1, len(history_list)+1)], history_list, color='blue', label='cat. crossentropy')\n",
    "ax.set_xlabel('Epochs', fontdict=font_black)\n",
    "# Create colored y-axis and labels\n",
    "ax.set_ylabel('Loss', fontdict=font_blue)\n",
    "ax.spines['left'].set_color('blue')\n",
    "ax.tick_params(axis='y', colors='blue')\n",
    "# Create second axis, charing x-axis (epochs)\n",
    "ax2 = ax.twinx()\n",
    "# Plot accuracy on test data \n",
    "ax2.plot([i for i in range(1, len(accuracy_list)+1)], accuracy_list, color='red', label='accuracy test data')\n",
    "# Colored y-axis and labels\n",
    "ax2.set_ylabel('Accuracy', fontdict=font_red)\n",
    "ax2.spines['right'].set_color('red')\n",
    "ax2.tick_params(axis='y', colors='red')\n",
    "# Create legend and title\n",
    "fig.legend(loc='lower right', bbox_to_anchor=(0.9, 0.5))\n",
    "plt.title('NN performance', fontdict=font_black)"
   ]
  },
  {
   "cell_type": "code",
   "execution_count": 113,
   "id": "1a22d221",
   "metadata": {},
   "outputs": [
    {
     "name": "stdout",
     "output_type": "stream",
     "text": [
      "1/1 [==============================] - 0s 149ms/step - loss: 0.2360 - accuracy: 0.8947\n",
      "1/1 [==============================] - 0s 30ms/step - loss: 0.1140 - accuracy: 0.9474\n",
      "1/1 [==============================] - 0s 27ms/step - loss: 0.0151 - accuracy: 1.0000\n",
      "1/1 [==============================] - 0s 26ms/step - loss: 0.0031 - accuracy: 1.0000\n",
      "1/1 [==============================] - 0s 28ms/step - loss: 0.0063 - accuracy: 1.0000\n",
      "1/1 [==============================] - 0s 26ms/step - loss: 0.3781 - accuracy: 0.8947\n",
      "1/1 [==============================] - 0s 29ms/step - loss: 0.0052 - accuracy: 1.0000\n",
      "1/1 [==============================] - 0s 26ms/step - loss: 0.0090 - accuracy: 1.0000\n"
     ]
    }
   ],
   "source": [
    "# Crossvalidation of neuronal net, using stratified k-fold crossvalidation, as data set is small \n",
    "# and therefore bigger variance in test data sets is expected\n",
    "# List to store scores in\n",
    "scores = []\n",
    "stratified_split = StratifiedKFold(8, shuffle=True)\n",
    "# Note that stratified split can only be done on multiclass column \"iris_target\" and not on dummy-columns\n",
    "for i, (train, test) in enumerate(stratified_split.split(iris_features_scaled, iris_target)):\n",
    "    # Obtain training/test data based on returned indices\n",
    "    X_train = iris_features_scaled.iloc[train, :]\n",
    "    X_test = iris_features_scaled.iloc[test, :]\n",
    "    y_train = iris_target_dummies.iloc[train, :]\n",
    "    y_test = iris_target_dummies.iloc[test, :]\n",
    "    # Fit neuronal net to this training data\n",
    "    net.fit(X_train, y_train, epochs=500, verbose=0)\n",
    "    # Evaluate net on test data and save score\n",
    "    scores.append(net.evaluate(X_test, y_test))"
   ]
  },
  {
   "cell_type": "code",
   "execution_count": 114,
   "id": "0034f264",
   "metadata": {},
   "outputs": [
    {
     "name": "stdout",
     "output_type": "stream",
     "text": [
      "After cross-validation and hyperparameter tuning the neuronal net achieves an accuracy of: 97% +/- 5%. \n",
      "This is comparable to non-linear SVM, while variation tends to be smaller with neuronal nets.\n"
     ]
    }
   ],
   "source": [
    "df_scores = pd.DataFrame(scores, columns=['loss', 'accuracy'])\n",
    "print(f'After cross-validation and hyperparameter tuning the neuronal net achieves\\\n",
    " an accuracy of: {df_scores.accuracy.mean():.0%} +/- {df_scores.accuracy.std():.0%}.\\\n",
    " \\nThis is comparable to non-linear SVM, while variation tends to be smaller with neuronal nets.')"
   ]
  }
 ],
 "metadata": {
  "kernelspec": {
   "display_name": "Python 3 (ipykernel)",
   "language": "python",
   "name": "python3"
  },
  "language_info": {
   "codemirror_mode": {
    "name": "ipython",
    "version": 3
   },
   "file_extension": ".py",
   "mimetype": "text/x-python",
   "name": "python",
   "nbconvert_exporter": "python",
   "pygments_lexer": "ipython3",
   "version": "3.10.12"
  }
 },
 "nbformat": 4,
 "nbformat_minor": 5
}
